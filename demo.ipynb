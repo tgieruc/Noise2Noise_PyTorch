{
 "cells": [
  {
   "cell_type": "code",
   "execution_count": null,
   "metadata": {
    "collapsed": true
   },
   "outputs": [],
   "source": [
    "import torch\n",
    "import numpy as np\n",
    "\n",
    "from matplotlib import pyplot as plt\n",
    "\n",
    "from model import Model\n"
   ]
  },
  {
   "cell_type": "code",
   "execution_count": null,
   "outputs": [],
   "source": [
    "def display_rgb(img):\n",
    "    plt.imshow(img.permute(1,2,0))\n",
    "    plt.show()\n",
    "\n",
    "def psnr_eval(model, noised, ground_truth):\n",
    "    def psnr(denoised, ground_truth):\n",
    "        mse = torch.mean((denoised.cpu() - ground_truth.cpu()) ** 2)\n",
    "        return -10 * torch.log10(mse + 10 ** -8)\n",
    "\n",
    "    noised = noised.float()\n",
    "    ground_truth = ground_truth.float()\n",
    "\n",
    "    denoised = model.predict(noised) / 255\n",
    "\n",
    "    psnr_result = psnr(denoised, (ground_truth / 255)).item()\n",
    "    print(f'PSNR result: {psnr_result}dB')\n",
    "\n",
    "    nb_images = 3\n",
    "    must_randomize = True\n",
    "\n",
    "    f, axarr = plt.subplots(nb_images, 3)\n",
    "\n",
    "    if must_randomize:\n",
    "        nb_index = np.random.choice(len(noised), nb_images)\n",
    "    else:\n",
    "        nb_index = np.arange(nb_images)\n",
    "    axarr[0, 0].set_title(\"Noisy Images\")\n",
    "    axarr[0, 1].set_title(\"Denoised\")\n",
    "    axarr[0, 2].set_title(\"Ground Truth\")\n",
    "\n",
    "    for i, index in enumerate(nb_index):\n",
    "        axarr[i, 0].imshow(clean_imgs[index].permute(1,2,0))\n",
    "        axarr[i,0].get_yaxis().set_visible(False)\n",
    "        axarr[i,0].get_xaxis().set_visible(False)\n",
    "        axarr[i, 1].imshow(denoised[index].cpu().detach().permute(1,2,0))\n",
    "        axarr[i, 1].get_yaxis().set_visible(False)\n",
    "        axarr[i, 1].get_xaxis().set_visible(False)\n",
    "        axarr[i, 2].imshow(clean_imgs[index].permute(1,2,0))\n",
    "        axarr[i, 2].get_yaxis().set_visible(False)\n",
    "        axarr[i, 2].get_xaxis().set_visible(False)\n",
    "    plt.show()"
   ],
   "metadata": {
    "collapsed": false
   }
  },
  {
   "cell_type": "code",
   "execution_count": null,
   "outputs": [],
   "source": [
    "device = \"cuda\" if torch.cuda.is_available() else \"cpu\"\n",
    "print(f'The model will be loaded on the {\"GPU\" if device == \"cuda\" else \"cpu\"}.')\n",
    "\n",
    "noisy_imgs_1, noisy_imgs_2 = torch.load('train_data.pkl')\n",
    "noisy_imgs, clean_imgs = torch.load('val_data.pkl')"
   ],
   "metadata": {
    "collapsed": false
   }
  },
  {
   "cell_type": "code",
   "execution_count": null,
   "outputs": [],
   "source": [
    "model = Model()"
   ],
   "metadata": {
    "collapsed": false
   }
  },
  {
   "cell_type": "code",
   "execution_count": null,
   "outputs": [],
   "source": [
    "model.train(noisy_imgs_1, noisy_imgs_2, num_epochs=5, batch_size=8, num_workers=1)"
   ],
   "metadata": {
    "collapsed": false
   }
  },
  {
   "cell_type": "code",
   "execution_count": null,
   "outputs": [],
   "source": [
    "psnr_eval(model, noisy_imgs, clean_imgs)"
   ],
   "metadata": {
    "collapsed": false
   }
  },
  {
   "cell_type": "code",
   "execution_count": null,
   "outputs": [],
   "source": [
    "model.save(\"model.pth\")"
   ],
   "metadata": {
    "collapsed": false
   }
  }
 ],
 "metadata": {
  "kernelspec": {
   "display_name": "Python 3",
   "language": "python",
   "name": "python3"
  },
  "language_info": {
   "codemirror_mode": {
    "name": "ipython",
    "version": 2
   },
   "file_extension": ".py",
   "mimetype": "text/x-python",
   "name": "python",
   "nbconvert_exporter": "python",
   "pygments_lexer": "ipython2",
   "version": "2.7.6"
  }
 },
 "nbformat": 4,
 "nbformat_minor": 0
}
